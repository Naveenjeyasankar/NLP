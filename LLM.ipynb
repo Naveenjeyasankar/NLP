{
 "cells": [
  {
   "cell_type": "code",
   "execution_count": 9,
   "id": "95f269ed-db93-4493-bbd4-f8ba90250647",
   "metadata": {},
   "outputs": [
    {
     "name": "stdout",
     "output_type": "stream",
     "text": [
      "['\\n', ' ', '!', '\"', '#', '$', '%', '&', \"'\", '(', ')', '*', ',', '-', '.', '/', '0', '1', '2', '3', '4', '5', '6', '7', '8', '9', ':', '@', 'A', 'B', 'C', 'D', 'E', 'F', 'G', 'H', 'I', 'J', 'K', 'L', 'M', 'N', 'O', 'P', 'Q', 'R', 'S', 'T', 'U', 'V', 'W', 'X', 'Y', 'Z', '[', ']', '_', 'a', 'b', 'c', 'd', 'e', 'f', 'g', 'h', 'i', 'j', 'k', 'l', 'm', 'n', 'o', 'p', 'q', 'r', 's', 't', 'u', 'v', 'w', 'x', 'y', 'z']\n",
      "83\n"
     ]
    }
   ],
   "source": [
    "with open ('wizard_oz.txt','r',encoding='utf-8')as f:\n",
    "    text=f.read()\n",
    "chars=sorted(set(text))\n",
    "print(chars)\n",
    "print(len(chars))"
   ]
  },
  {
   "cell_type": "code",
   "execution_count": 24,
   "id": "ce62bfc5-7cec-4aae-9042-d6249cd3c7f4",
   "metadata": {},
   "outputs": [
    {
     "name": "stdout",
     "output_type": "stream",
     "text": [
      "cuda\n"
     ]
    }
   ],
   "source": [
    "import torch\n",
    "device='cuda' if torch.cuda.is_available() else 'cpu'\n",
    "print(device)\n",
    "block_size=8\n",
    "batch_size=4 "
   ]
  },
  {
   "cell_type": "code",
   "execution_count": 16,
   "id": "0dd4a3d4-fce2-4ca3-bdf1-38aac77f3fd3",
   "metadata": {},
   "outputs": [
    {
     "name": "stdout",
     "output_type": "stream",
     "text": [
      "tensor([ 0, 47, 65, 76, 68, 61, 26,  1, 31, 71, 74, 71, 76, 64, 81,  1, 57, 70,\n",
      "        60,  1, 76, 64, 61,  1, 50, 65, 82, 57, 74, 60,  1, 65, 70,  1, 42, 82,\n",
      "         0,  0, 46, 77, 58, 76, 65, 76, 68, 61, 26,  1, 45, 61, 57, 60, 65, 70,\n",
      "        63,  1, 58, 81,  1, 37, 77, 60, 81,  1, 29, 65, 61, 58, 61, 74,  0,  0,\n",
      "        28, 77, 76, 64, 71, 74, 26,  1, 39,  1, 33, 74, 57, 70, 67, 14,  1, 29,\n",
      "        57, 77, 69,  0,  0, 45, 61, 68, 61, 57])\n"
     ]
    }
   ],
   "source": [
    "string_to_int={ch:i for i,ch in enumerate(chars)}\n",
    "int_to_string={i:ch for ch,i in enumerate(chars)}\n",
    "encode=lambda s:[string_to_int[c] for c in s]\n",
    "decode=lambda l: ''.join([int_to_string[i] for i in l])\n",
    "data=torch.tensor(encode(text),dtype=torch.long)\n",
    "print(data[:100])\n"
   ]
  },
  {
   "cell_type": "code",
   "execution_count": 18,
   "id": "199f9d30-3584-48ca-8c66-9bb00885a97f",
   "metadata": {},
   "outputs": [],
   "source": [
    "n=int(0.8*len(data))\n",
    "train_data=data[:n]\n",
    "val_data=data[:n]\n"
   ]
  },
  {
   "cell_type": "code",
   "execution_count": 25,
   "id": "3b9ab136-a41f-485b-937a-3232a612e9f9",
   "metadata": {},
   "outputs": [
    {
     "name": "stdout",
     "output_type": "stream",
     "text": [
      "when input is tensor([0]) target is tensor(47)\n",
      "when input is tensor([ 0, 47]) target is tensor(65)\n",
      "when input is tensor([ 0, 47, 65]) target is tensor(76)\n",
      "when input is tensor([ 0, 47, 65, 76]) target is tensor(68)\n",
      "when input is tensor([ 0, 47, 65, 76, 68]) target is tensor(61)\n",
      "when input is tensor([ 0, 47, 65, 76, 68, 61]) target is tensor(26)\n",
      "when input is tensor([ 0, 47, 65, 76, 68, 61, 26]) target is tensor(1)\n",
      "when input is tensor([ 0, 47, 65, 76, 68, 61, 26,  1]) target is tensor(31)\n"
     ]
    }
   ],
   "source": [
    "\n",
    "x=train_data[:block_size]\n",
    "y=train_data[1:block_size+1]\n",
    "for t in range(block_size):\n",
    "    context=x[:t+1]\n",
    "    target=y[t]\n",
    "    print('when input is',context,'target is',target)"
   ]
  },
  {
   "cell_type": "code",
   "execution_count": 26,
   "id": "b99bb8a1-43cf-4abc-9586-1df1b4cc9adf",
   "metadata": {},
   "outputs": [
    {
     "name": "stdout",
     "output_type": "stream",
     "text": [
      "tensor([3.0000, 3.6667, 4.3333, 5.0000])\n"
     ]
    }
   ],
   "source": [
    "lin=torch.linspace(3,5,steps=4)\n",
    "print(lin)"
   ]
  },
  {
   "cell_type": "code",
   "execution_count": 1,
   "id": "67729c8c",
   "metadata": {},
   "outputs": [],
   "source": [
    "def quickssort(a,l,r):\n",
    "    if(r-l)<=1:\n",
    "        return()\n",
    "    less=l+1\n",
    "    for great in range(l+1,r):\n",
    "        if a[great]<=a[l]:\n",
    "            (a[less],a[great])=(a[great],a[less])\n",
    "            less+=1\n",
    "    (a[l],a[less-1])=(a[less-1],a[l])\n",
    "    quickssort(a,l,less-1)\n",
    "    quickssort(a,less,r)"
   ]
  },
  {
   "cell_type": "code",
   "execution_count": null,
   "id": "4ee50763",
   "metadata": {},
   "outputs": [],
   "source": [
    "a"
   ]
  }
 ],
 "metadata": {
  "kernelspec": {
   "display_name": "cuda-gpt",
   "language": "python",
   "name": "cuda"
  },
  "language_info": {
   "codemirror_mode": {
    "name": "ipython",
    "version": 3
   },
   "file_extension": ".py",
   "mimetype": "text/x-python",
   "name": "python",
   "nbconvert_exporter": "python",
   "pygments_lexer": "ipython3",
   "version": "3.10.13"
  }
 },
 "nbformat": 4,
 "nbformat_minor": 5
}
